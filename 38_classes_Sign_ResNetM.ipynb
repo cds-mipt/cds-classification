{
 "cells": [
  {
   "cell_type": "markdown",
   "metadata": {},
   "source": [
    "# Train"
   ]
  },
  {
   "cell_type": "code",
   "execution_count": 2,
   "metadata": {},
   "outputs": [],
   "source": [
    "import numpy as np\n",
    "import pandas as pd \n",
    "import cv2\n",
    "%matplotlib inline\n",
    "import matplotlib.pyplot as plt\n",
    "import pickle\n",
    "import csv\n",
    "import tensorflow as tf\n",
    "from PIL import Image\n",
    "import os\n",
    "import keras\n",
    "import sys\n",
    "\n",
    "from keras.preprocessing import image\n",
    "from tensorflow.keras.preprocessing import image as im\n",
    "import time\n",
    "import datetime\n",
    "\n",
    "from keras.preprocessing.image import ImageDataGenerator\n",
    "from keras.models import load_model\n",
    "from keras.callbacks import EarlyStopping, ReduceLROnPlateau, ModelCheckpoint, Callback\n",
    "from keras import regularizers\n",
    "from keras import backend as K\n",
    "from sklearn.preprocessing import OneHotEncoder\n",
    "\n",
    "from keras.preprocessing.image import ImageDataGenerator, array_to_img, img_to_array, load_img\n",
    "from keras.models import Sequential, Model\n",
    "from keras import layers\n",
    "from keras.layers import Conv2D, MaxPooling2D, BatchNormalization, Input, AveragePooling2D\n",
    "from keras.layers import Activation, Flatten, Dense, Dropout\n",
    "\n",
    "import shutil"
   ]
  },
  {
   "cell_type": "code",
   "execution_count": 3,
   "metadata": {},
   "outputs": [],
   "source": [
    "# Train phase\n",
    "\n",
    "tf.keras.backend.set_learning_phase(1)"
   ]
  },
  {
   "cell_type": "code",
   "execution_count": 4,
   "metadata": {},
   "outputs": [],
   "source": [
    "# Choose GPU\n",
    "\n",
    "os.environ[\"CUDA_VISIBLE_DEVICES\"] = \"1\""
   ]
  },
  {
   "cell_type": "code",
   "execution_count": 5,
   "metadata": {},
   "outputs": [],
   "source": [
    "# 1) Path to train and test datasets\n",
    "train_dir = \"/home/linnik/Datasets/Signs/38_Classes/train/\"   \n",
    "test_dir = \"/home/linnik/Datasets/Signs/38_Classes/test/\"\n",
    "\n",
    "\n",
    "# 2) Target width and height of input images, number of classes, number of train and test images, batch size, epochs\n",
    "img_height, img_width = 72, 72\n",
    "n_classes = len(os.listdir(train_dir))\n",
    "nb_train_samples = sum([len(os.listdir(train_dir + folder)) for folder in os.listdir(train_dir)])\n",
    "nb_test_samples = sum([len(os.listdir(test_dir + folder)) for folder in os.listdir(test_dir)])\n",
    "batch_size = 128\n",
    "epochs = 100\n",
    "\n",
    "\n",
    "# 3) Name of file where will be saved trained model\n",
    "model_name = \"/home/linnik/Nets/Sign_ResNetM_72X72x3_38.hdf5\"\n",
    "\n",
    "\n",
    "# 4) Compile parametrs\n",
    "loss_ = 'categorical_crossentropy'\n",
    "optimizer_ = 'adam'\n",
    "metrics_ = ['acc']"
   ]
  },
  {
   "cell_type": "code",
   "execution_count": 6,
   "metadata": {},
   "outputs": [],
   "source": [
    "train_datagen = ImageDataGenerator(\n",
    "    rescale = 1.0 / 255,\n",
    "    zoom_range = 0.2,\n",
    "    rotation_range = 5,\n",
    "    width_shift_range = img_width // 3,\n",
    "    height_shift_range = img_height // 3,\n",
    "    horizontal_flip = False,\n",
    "    vertical_flip = False)\n",
    "\n",
    "test_datagen = ImageDataGenerator(rescale = 1.0 / 255)"
   ]
  },
  {
   "cell_type": "code",
   "execution_count": 7,
   "metadata": {},
   "outputs": [
    {
     "name": "stdout",
     "output_type": "stream",
     "text": [
      "Found 122294 images belonging to 38 classes.\n",
      "Found 16984 images belonging to 38 classes.\n"
     ]
    }
   ],
   "source": [
    "train_generator = train_datagen.flow_from_directory(\n",
    "    train_dir,\n",
    "    target_size = (img_height, img_width),\n",
    "    batch_size = batch_size,\n",
    "    class_mode = 'categorical')\n",
    "\n",
    "test_generator = test_datagen.flow_from_directory(\n",
    "    test_dir,\n",
    "    target_size = (img_height, img_width),\n",
    "    batch_size = batch_size,\n",
    "    class_mode = 'categorical')"
   ]
  },
  {
   "cell_type": "code",
   "execution_count": 8,
   "metadata": {},
   "outputs": [
    {
     "data": {
      "text/plain": [
       "{'00': 0,\n",
       " '01': 1,\n",
       " '02': 2,\n",
       " '03': 3,\n",
       " '04': 4,\n",
       " '05': 5,\n",
       " '06': 6,\n",
       " '07': 7,\n",
       " '08': 8,\n",
       " '09': 9,\n",
       " '10': 10,\n",
       " '11': 11,\n",
       " '12': 12,\n",
       " '13': 13,\n",
       " '14': 14,\n",
       " '15': 15,\n",
       " '16': 16,\n",
       " '17': 17,\n",
       " '18': 18,\n",
       " '19': 19,\n",
       " '20': 20,\n",
       " '21': 21,\n",
       " '22': 22,\n",
       " '23': 23,\n",
       " '24': 24,\n",
       " '25': 25,\n",
       " '26': 26,\n",
       " '27': 27,\n",
       " '28': 28,\n",
       " '29': 29,\n",
       " '30': 30,\n",
       " '31': 31,\n",
       " '32': 32,\n",
       " '33': 33,\n",
       " '34': 34,\n",
       " '35': 35,\n",
       " '36': 36,\n",
       " '37': 37}"
      ]
     },
     "execution_count": 8,
     "metadata": {},
     "output_type": "execute_result"
    }
   ],
   "source": [
    "train_generator.class_indices"
   ]
  },
  {
   "cell_type": "code",
   "execution_count": 9,
   "metadata": {},
   "outputs": [
    {
     "name": "stdout",
     "output_type": "stream",
     "text": [
      "[0. 0. 0. 0. 0. 0. 0. 0. 0. 0. 0. 1. 0. 0. 0. 0. 0. 0. 0. 0. 0. 0. 0. 0.\n",
      " 0. 0. 0. 0. 0. 0. 0. 0. 0. 0. 0. 0. 0. 0.]\n",
      "(72, 72, 3)\n"
     ]
    },
    {
     "data": {
      "image/png": "[encoded data removed]",
      "text/plain": [
       "<Figure size 432x288 with 1 Axes>"
      ]
     },
     "metadata": {
      "needs_background": "light"
     },
     "output_type": "display_data"
    }
   ],
   "source": [
    "# Check size\n",
    "\n",
    "for x, y in train_generator:\n",
    "    plt.imshow(x[0])\n",
    "    print(y[0])\n",
    "    print(x[0].shape)\n",
    "    break"
   ]
  },
  {
   "cell_type": "code",
   "execution_count": 10,
   "metadata": {},
   "outputs": [],
   "source": [
    "def identity_block(input_tensor, kernel_size, filters, stage, block):\n",
    "    \"\"\"The identity block is the block that has no conv layer at shortcut.\n",
    "    # Arguments\n",
    "        input_tensor: input tensor\n",
    "        kernel_size: default 3, the kernel size of middle conv layer at main path\n",
    "        filters: list of integers, the filters of 3 conv layer at main path\n",
    "        stage: integer, current stage label, used for generating layer names\n",
    "        block: 'a','b'..., current block label, used for generating layer names\n",
    "    # Returns\n",
    "        Output tensor for the block.\n",
    "    \"\"\"\n",
    "    filters1, filters2, filters3 = filters\n",
    "    if K.image_data_format() == 'channels_last':\n",
    "        bn_axis = 3\n",
    "    else:\n",
    "        bn_axis = 1\n",
    "    conv_name_base = 'res' + str(stage) + block + '_branch'\n",
    "    bn_name_base = 'bn' + str(stage) + block + '_branch'\n",
    "\n",
    "    x = Conv2D(filters1, (1, 1), name=conv_name_base + '2a')(input_tensor)\n",
    "    x = BatchNormalization(axis=bn_axis, name=bn_name_base + '2a')(x)\n",
    "    x = Activation('relu')(x)\n",
    "\n",
    "    x = Conv2D(filters2, kernel_size,\n",
    "               padding='same', name=conv_name_base + '2b')(x)\n",
    "    x = BatchNormalization(axis=bn_axis, name=bn_name_base + '2b')(x)\n",
    "    x = Activation('relu')(x)\n",
    "\n",
    "    x = Conv2D(filters3, (1, 1), name=conv_name_base + '2c')(x)\n",
    "    x = BatchNormalization(axis=bn_axis, name=bn_name_base + '2c')(x)\n",
    "\n",
    "    x = layers.add([x, input_tensor])\n",
    "    x = Activation('relu')(x)\n",
    "    return x\n",
    "\n",
    "\n",
    "def conv_block(input_tensor, kernel_size, filters, stage, block, strides=(2, 2)):\n",
    "    \"\"\"A block that has a conv layer at shortcut.\n",
    "    # Arguments\n",
    "        input_tensor: input tensor\n",
    "        kernel_size: default 3, the kernel size of middle conv layer at main path\n",
    "        filters: list of integers, the filters of 3 conv layer at main path\n",
    "        stage: integer, current stage label, used for generating layer names\n",
    "        block: 'a','b'..., current block label, used for generating layer names\n",
    "    # Returns\n",
    "        Output tensor for the block.\n",
    "    Note that from stage 3, the first conv layer at main path is with strides=(2,2)\n",
    "    And the shortcut should have strides=(2,2) as well\n",
    "    \"\"\"\n",
    "    filters1, filters2, filters3 = filters\n",
    "    if K.image_data_format() == 'channels_last':\n",
    "        bn_axis = 3\n",
    "    else:\n",
    "        bn_axis = 1\n",
    "    conv_name_base = 'res' + str(stage) + block + '_branch'\n",
    "    bn_name_base = 'bn' + str(stage) + block + '_branch'\n",
    "\n",
    "    x = Conv2D(filters1, (1, 1), strides=strides,\n",
    "               name=conv_name_base + '2a')(input_tensor)\n",
    "    x = BatchNormalization(axis=bn_axis, name=bn_name_base + '2a')(x)\n",
    "    x = Activation('relu')(x)\n",
    "\n",
    "    x = Conv2D(filters2, kernel_size, padding='same',\n",
    "               name=conv_name_base + '2b')(x)\n",
    "    x = BatchNormalization(axis=bn_axis, name=bn_name_base + '2b')(x)\n",
    "    x = Activation('relu')(x)\n",
    "\n",
    "    x = Conv2D(filters3, (1, 1), name=conv_name_base + '2c')(x)\n",
    "    x = BatchNormalization(axis=bn_axis, name=bn_name_base + '2c')(x)\n",
    "\n",
    "    shortcut = Conv2D(filters3, (1, 1), strides=strides,\n",
    "                      name=conv_name_base + '1')(input_tensor)\n",
    "    shortcut = BatchNormalization(axis=bn_axis, name=bn_name_base + '1')(shortcut)\n",
    "\n",
    "    x = layers.add([x, shortcut])\n",
    "    x = Activation('relu')(x)\n",
    "    return x\n",
    "\n",
    "def resNetM(input_shape, classes):\n",
    "    img_input = Input(shape=input_shape)\n",
    "\n",
    "    if K.image_data_format() == 'channels_last':\n",
    "        bn_axis = 3\n",
    "    else:\n",
    "        bn_axis = 1\n",
    "\n",
    "    x = Conv2D(64, (7, 7), strides=(2, 2), padding='same', name='conv1')(img_input)\n",
    "    x = BatchNormalization(axis=bn_axis, name='bn_conv1')(x)\n",
    "    x = Activation('relu')(x)\n",
    "    x = MaxPooling2D(pool_size=(2, 2))(x)\n",
    "\n",
    "    x = conv_block(x, 3, [64, 64, 256], stage=2, block='a', strides=(1, 1))\n",
    "    x = identity_block(x, 3, [64, 64, 256], stage=2, block='b')\n",
    "    x = identity_block(x, 3, [64, 64, 256], stage=2, block='c')\n",
    "\n",
    "    x = conv_block(x, 3, [128, 128, 512], stage=3, block='a')\n",
    "    x = identity_block(x, 3, [128, 128, 512], stage=3, block='b')\n",
    "    x = identity_block(x, 3, [128, 128, 512], stage=3, block='c')\n",
    "    x = identity_block(x, 3, [128, 128, 512], stage=3, block='d')\n",
    "\n",
    "    x = AveragePooling2D((3, 3), name='avg_pool')(x)\n",
    "\n",
    "    x = Flatten()(x)\n",
    "    #x = Dense(512, activation='relu', name='fc01')(x)\n",
    "    #x = Dense(200, activation='relu', name='fc02')(x)\n",
    "    #x = Dropout(0.3, name='dr01')(x)\n",
    "    x = Dense(classes, activation='softmax', name='fc5')(x)\n",
    "\n",
    "    inputs = img_input\n",
    "\n",
    "    model = Model(inputs, x, name='resnetM')\n",
    "\n",
    "    return model"
   ]
  },
  {
   "cell_type": "code",
   "execution_count": 11,
   "metadata": {},
   "outputs": [
    {
     "name": "stdout",
     "output_type": "stream",
     "text": [
      "WARNING:tensorflow:From /home/linnik/.conda/envs/linnik/lib/python3.7/site-packages/keras/backend/tensorflow_backend.py:66: The name tf.get_default_graph is deprecated. Please use tf.compat.v1.get_default_graph instead.\n",
      "\n",
      "WARNING:tensorflow:From /home/linnik/.conda/envs/linnik/lib/python3.7/site-packages/keras/backend/tensorflow_backend.py:541: The name tf.placeholder is deprecated. Please use tf.compat.v1.placeholder instead.\n",
      "\n",
      "WARNING:tensorflow:From /home/linnik/.conda/envs/linnik/lib/python3.7/site-packages/keras/backend/tensorflow_backend.py:4432: The name tf.random_uniform is deprecated. Please use tf.random.uniform instead.\n",
      "\n",
      "WARNING:tensorflow:From /home/linnik/.conda/envs/linnik/lib/python3.7/site-packages/keras/backend/tensorflow_backend.py:190: The name tf.get_default_session is deprecated. Please use tf.compat.v1.get_default_session instead.\n",
      "\n",
      "WARNING:tensorflow:From /home/linnik/.conda/envs/linnik/lib/python3.7/site-packages/keras/backend/tensorflow_backend.py:197: The name tf.ConfigProto is deprecated. Please use tf.compat.v1.ConfigProto instead.\n",
      "\n",
      "WARNING:tensorflow:From /home/linnik/.conda/envs/linnik/lib/python3.7/site-packages/keras/backend/tensorflow_backend.py:2041: The name tf.nn.fused_batch_norm is deprecated. Please use tf.compat.v1.nn.fused_batch_norm instead.\n",
      "\n",
      "WARNING:tensorflow:From /home/linnik/.conda/envs/linnik/lib/python3.7/site-packages/keras/backend/tensorflow_backend.py:4267: The name tf.nn.max_pool is deprecated. Please use tf.nn.max_pool2d instead.\n",
      "\n",
      "WARNING:tensorflow:From /home/linnik/.conda/envs/linnik/lib/python3.7/site-packages/keras/backend/tensorflow_backend.py:4271: The name tf.nn.avg_pool is deprecated. Please use tf.nn.avg_pool2d instead.\n",
      "\n",
      "WARNING:tensorflow:From /home/linnik/.conda/envs/linnik/lib/python3.7/site-packages/keras/optimizers.py:793: The name tf.train.Optimizer is deprecated. Please use tf.compat.v1.train.Optimizer instead.\n",
      "\n"
     ]
    }
   ],
   "source": [
    "# Create and compile your own model\n",
    "\n",
    "model = resNetM((img_height, img_width, 3), n_classes)\n",
    "model.compile(loss = loss_, optimizer = optimizer_, metrics = metrics_)"
   ]
  },
  {
   "cell_type": "code",
   "execution_count": 12,
   "metadata": {},
   "outputs": [],
   "source": [
    "# Callbacks\n",
    "\n",
    "early_stop = EarlyStopping(monitor = 'val_loss', patience = 8, verbose = 1, min_delta = 1e-4)\n",
    "reduce_lr = ReduceLROnPlateau(monitor = 'val_loss', factor = 0.1, patience = 4, verbose = 1, min_delta = 1e-4)\n",
    "check = ModelCheckpoint(filepath = model_name, monitor = \"val_acc\", save_best_only = True)\n",
    "\n",
    "callbacks_list = [early_stop, reduce_lr, check]"
   ]
  },
  {
   "cell_type": "code",
   "execution_count": 13,
   "metadata": {},
   "outputs": [
    {
     "name": "stdout",
     "output_type": "stream",
     "text": [
      "WARNING:tensorflow:From /home/linnik/.conda/envs/linnik/lib/python3.7/site-packages/tensorflow/python/ops/math_grad.py:1250: add_dispatch_support.<locals>.wrapper (from tensorflow.python.ops.array_ops) is deprecated and will be removed in a future version.\n",
      "Instructions for updating:\n",
      "Use tf.where in 2.0, which has the same broadcast rule as np.where\n",
      "Epoch 1/100\n",
      "155/955 [===>..........................] - ETA: 4:06 - loss: 3.0617 - acc: 0.3196"
     ]
    },
    {
     "name": "stderr",
     "output_type": "stream",
     "text": [
      "/home/linnik/.conda/envs/linnik/lib/python3.7/site-packages/PIL/Image.py:989: UserWarning: Palette images with Transparency expressed in bytes should be converted to RGBA images\n",
      "  \"Palette images with Transparency expressed in bytes should be \"\n"
     ]
    },
    {
     "name": "stdout",
     "output_type": "stream",
     "text": [
      "955/955 [==============================] - 248s 259ms/step - loss: 1.6685 - acc: 0.5394 - val_loss: 0.5843 - val_acc: 0.8135\n",
      "Epoch 2/100\n",
      "955/955 [==============================] - 177s 186ms/step - loss: 0.3355 - acc: 0.8922 - val_loss: 0.1772 - val_acc: 0.9464\n",
      "Epoch 3/100\n",
      "955/955 [==============================] - 177s 185ms/step - loss: 0.1609 - acc: 0.9512 - val_loss: 0.1683 - val_acc: 0.9536\n",
      "Epoch 4/100\n",
      "955/955 [==============================] - 176s 185ms/step - loss: 0.1256 - acc: 0.9624 - val_loss: 0.1184 - val_acc: 0.9692\n",
      "Epoch 5/100\n",
      "955/955 [==============================] - 176s 184ms/step - loss: 0.1041 - acc: 0.9687 - val_loss: 0.1543 - val_acc: 0.9604\n",
      "Epoch 6/100\n",
      "955/955 [==============================] - 175s 183ms/step - loss: 0.0954 - acc: 0.9718 - val_loss: 0.1694 - val_acc: 0.9513\n",
      "Epoch 7/100\n",
      "955/955 [==============================] - 175s 184ms/step - loss: 0.0855 - acc: 0.9740 - val_loss: 0.0734 - val_acc: 0.9782\n",
      "Epoch 8/100\n",
      "955/955 [==============================] - 174s 182ms/step - loss: 0.0754 - acc: 0.9776 - val_loss: 0.1035 - val_acc: 0.9702\n",
      "Epoch 9/100\n",
      "955/955 [==============================] - 174s 182ms/step - loss: 0.0714 - acc: 0.9781 - val_loss: 0.1582 - val_acc: 0.9655\n",
      "Epoch 10/100\n",
      "955/955 [==============================] - 174s 182ms/step - loss: 0.0683 - acc: 0.9792 - val_loss: 0.0399 - val_acc: 0.9889\n",
      "Epoch 11/100\n",
      "955/955 [==============================] - 174s 182ms/step - loss: 0.0582 - acc: 0.9822 - val_loss: 0.0815 - val_acc: 0.9756\n",
      "Epoch 12/100\n",
      "955/955 [==============================] - 174s 182ms/step - loss: 0.0556 - acc: 0.9827 - val_loss: 0.0870 - val_acc: 0.9762\n",
      "Epoch 13/100\n",
      "955/955 [==============================] - 174s 182ms/step - loss: 0.0532 - acc: 0.9841 - val_loss: 0.0428 - val_acc: 0.9892\n",
      "Epoch 14/100\n",
      "955/955 [==============================] - 174s 182ms/step - loss: 0.0506 - acc: 0.9844 - val_loss: 0.0474 - val_acc: 0.9876\n",
      "\n",
      "Epoch 00014: ReduceLROnPlateau reducing learning rate to 0.00010000000474974513.\n",
      "Epoch 15/100\n",
      "955/955 [==============================] - 174s 182ms/step - loss: 0.0318 - acc: 0.9899 - val_loss: 0.0201 - val_acc: 0.9947\n",
      "Epoch 16/100\n",
      "955/955 [==============================] - 174s 182ms/step - loss: 0.0238 - acc: 0.9923 - val_loss: 0.0211 - val_acc: 0.9947\n",
      "Epoch 17/100\n",
      "955/955 [==============================] - 174s 182ms/step - loss: 0.0220 - acc: 0.9931 - val_loss: 0.0199 - val_acc: 0.9958\n",
      "Epoch 18/100\n",
      "955/955 [==============================] - 172s 181ms/step - loss: 0.0202 - acc: 0.9936 - val_loss: 0.0221 - val_acc: 0.9951\n",
      "Epoch 19/100\n",
      "955/955 [==============================] - 173s 181ms/step - loss: 0.0199 - acc: 0.9935 - val_loss: 0.0172 - val_acc: 0.9958\n",
      "Epoch 20/100\n",
      "955/955 [==============================] - 174s 182ms/step - loss: 0.0186 - acc: 0.9940 - val_loss: 0.0176 - val_acc: 0.9959\n",
      "Epoch 21/100\n",
      "955/955 [==============================] - 172s 181ms/step - loss: 0.0184 - acc: 0.9943 - val_loss: 0.0193 - val_acc: 0.9954\n",
      "Epoch 22/100\n",
      "955/955 [==============================] - 173s 181ms/step - loss: 0.0171 - acc: 0.9946 - val_loss: 0.0202 - val_acc: 0.9953\n",
      "Epoch 23/100\n",
      "955/955 [==============================] - 174s 182ms/step - loss: 0.0152 - acc: 0.9949 - val_loss: 0.0179 - val_acc: 0.9957\n",
      "\n",
      "Epoch 00023: ReduceLROnPlateau reducing learning rate to 1.0000000474974514e-05.\n",
      "Epoch 24/100\n",
      "955/955 [==============================] - 174s 182ms/step - loss: 0.0150 - acc: 0.9951 - val_loss: 0.0173 - val_acc: 0.9963\n",
      "Epoch 25/100\n",
      "955/955 [==============================] - 174s 182ms/step - loss: 0.0139 - acc: 0.9954 - val_loss: 0.0174 - val_acc: 0.9956\n",
      "Epoch 26/100\n",
      "955/955 [==============================] - 175s 183ms/step - loss: 0.0130 - acc: 0.9957 - val_loss: 0.0181 - val_acc: 0.9963\n",
      "Epoch 27/100\n",
      "955/955 [==============================] - 175s 183ms/step - loss: 0.0140 - acc: 0.9955 - val_loss: 0.0166 - val_acc: 0.9958\n",
      "Epoch 28/100\n",
      "955/955 [==============================] - 175s 183ms/step - loss: 0.0138 - acc: 0.9955 - val_loss: 0.0182 - val_acc: 0.9957\n",
      "Epoch 29/100\n",
      "955/955 [==============================] - 175s 184ms/step - loss: 0.0135 - acc: 0.9955 - val_loss: 0.0210 - val_acc: 0.9956\n",
      "Epoch 30/100\n",
      "955/955 [==============================] - 174s 182ms/step - loss: 0.0130 - acc: 0.9958 - val_loss: 0.0170 - val_acc: 0.9961\n",
      "Epoch 31/100\n",
      "955/955 [==============================] - 173s 181ms/step - loss: 0.0126 - acc: 0.9960 - val_loss: 0.0180 - val_acc: 0.9960\n",
      "\n",
      "Epoch 00031: ReduceLROnPlateau reducing learning rate to 1.0000000656873453e-06.\n",
      "Epoch 32/100\n",
      "955/955 [==============================] - 174s 182ms/step - loss: 0.0135 - acc: 0.9955 - val_loss: 0.0195 - val_acc: 0.9957\n",
      "Epoch 33/100\n",
      "955/955 [==============================] - 175s 183ms/step - loss: 0.0132 - acc: 0.9959 - val_loss: 0.0153 - val_acc: 0.9960\n",
      "Epoch 34/100\n",
      "955/955 [==============================] - 176s 184ms/step - loss: 0.0138 - acc: 0.9956 - val_loss: 0.0206 - val_acc: 0.9959\n",
      "Epoch 35/100\n",
      "955/955 [==============================] - 175s 183ms/step - loss: 0.0129 - acc: 0.9958 - val_loss: 0.0170 - val_acc: 0.9957\n",
      "Epoch 36/100\n",
      "955/955 [==============================] - 174s 183ms/step - loss: 0.0117 - acc: 0.9961 - val_loss: 0.0214 - val_acc: 0.9953\n",
      "Epoch 37/100\n",
      "955/955 [==============================] - 175s 183ms/step - loss: 0.0135 - acc: 0.9954 - val_loss: 0.0147 - val_acc: 0.9963\n",
      "Epoch 38/100\n",
      "955/955 [==============================] - 174s 183ms/step - loss: 0.0116 - acc: 0.9963 - val_loss: 0.0204 - val_acc: 0.9958\n",
      "Epoch 39/100\n",
      "955/955 [==============================] - 174s 183ms/step - loss: 0.0125 - acc: 0.9960 - val_loss: 0.0187 - val_acc: 0.9958\n",
      "Epoch 40/100\n",
      "955/955 [==============================] - 175s 183ms/step - loss: 0.0128 - acc: 0.9958 - val_loss: 0.0201 - val_acc: 0.9955\n",
      "Epoch 41/100\n",
      "955/955 [==============================] - 174s 182ms/step - loss: 0.0128 - acc: 0.9958 - val_loss: 0.0153 - val_acc: 0.9963\n",
      "\n",
      "Epoch 00041: ReduceLROnPlateau reducing learning rate to 1.0000001111620805e-07.\n",
      "Epoch 42/100\n",
      "955/955 [==============================] - 174s 182ms/step - loss: 0.0130 - acc: 0.9959 - val_loss: 0.0191 - val_acc: 0.9957\n",
      "Epoch 43/100\n",
      "955/955 [==============================] - 174s 183ms/step - loss: 0.0125 - acc: 0.9959 - val_loss: 0.0173 - val_acc: 0.9961\n",
      "Epoch 44/100\n",
      "955/955 [==============================] - 174s 182ms/step - loss: 0.0124 - acc: 0.9960 - val_loss: 0.0200 - val_acc: 0.9955\n",
      "Epoch 45/100\n",
      "955/955 [==============================] - 174s 182ms/step - loss: 0.0127 - acc: 0.9960 - val_loss: 0.0170 - val_acc: 0.9963\n",
      "\n",
      "Epoch 00045: ReduceLROnPlateau reducing learning rate to 1.000000082740371e-08.\n",
      "Epoch 00045: early stopping\n",
      "CPU times: user 2h 54min 31s, sys: 13min 43s, total: 3h 8min 14s\n",
      "Wall time: 2h 12min 12s\n"
     ]
    }
   ],
   "source": [
    "%%time\n",
    "\n",
    "# Train model\n",
    "\n",
    "model_history = model.fit_generator(\n",
    "    train_generator,\n",
    "    epochs = epochs,\n",
    "    validation_data = test_generator,\n",
    "    validation_steps = nb_test_samples // batch_size,\n",
    "    callbacks = callbacks_list,\n",
    "    steps_per_epoch = nb_train_samples // batch_size)"
   ]
  },
  {
   "cell_type": "code",
   "execution_count": null,
   "metadata": {},
   "outputs": [],
   "source": [
    "os._exit(0)"
   ]
  },
  {
   "cell_type": "markdown",
   "metadata": {},
   "source": [
    "# Test"
   ]
  },
  {
   "cell_type": "code",
   "execution_count": 9,
   "metadata": {},
   "outputs": [],
   "source": [
    "# Test phase\n",
    "\n",
    "tf.keras.backend.set_learning_phase(0)"
   ]
  },
  {
   "cell_type": "code",
   "execution_count": 10,
   "metadata": {},
   "outputs": [
    {
     "name": "stdout",
     "output_type": "stream",
     "text": [
      "WARNING:tensorflow:From /home/linnik/.conda/envs/linnik/lib/python3.7/site-packages/keras/backend/tensorflow_backend.py:541: The name tf.placeholder is deprecated. Please use tf.compat.v1.placeholder instead.\n",
      "\n",
      "WARNING:tensorflow:From /home/linnik/.conda/envs/linnik/lib/python3.7/site-packages/keras/backend/tensorflow_backend.py:4432: The name tf.random_uniform is deprecated. Please use tf.random.uniform instead.\n",
      "\n",
      "WARNING:tensorflow:From /home/linnik/.conda/envs/linnik/lib/python3.7/site-packages/keras/backend/tensorflow_backend.py:66: The name tf.get_default_graph is deprecated. Please use tf.compat.v1.get_default_graph instead.\n",
      "\n",
      "WARNING:tensorflow:From /home/linnik/.conda/envs/linnik/lib/python3.7/site-packages/keras/backend/tensorflow_backend.py:190: The name tf.get_default_session is deprecated. Please use tf.compat.v1.get_default_session instead.\n",
      "\n",
      "WARNING:tensorflow:From /home/linnik/.conda/envs/linnik/lib/python3.7/site-packages/keras/backend/tensorflow_backend.py:197: The name tf.ConfigProto is deprecated. Please use tf.compat.v1.ConfigProto instead.\n",
      "\n",
      "WARNING:tensorflow:From /home/linnik/.conda/envs/linnik/lib/python3.7/site-packages/keras/backend/tensorflow_backend.py:2041: The name tf.nn.fused_batch_norm is deprecated. Please use tf.compat.v1.nn.fused_batch_norm instead.\n",
      "\n",
      "WARNING:tensorflow:From /home/linnik/.conda/envs/linnik/lib/python3.7/site-packages/keras/backend/tensorflow_backend.py:4267: The name tf.nn.max_pool is deprecated. Please use tf.nn.max_pool2d instead.\n",
      "\n",
      "WARNING:tensorflow:From /home/linnik/.conda/envs/linnik/lib/python3.7/site-packages/keras/backend/tensorflow_backend.py:4271: The name tf.nn.avg_pool is deprecated. Please use tf.nn.avg_pool2d instead.\n",
      "\n",
      "WARNING:tensorflow:From /home/linnik/.conda/envs/linnik/lib/python3.7/site-packages/keras/optimizers.py:793: The name tf.train.Optimizer is deprecated. Please use tf.compat.v1.train.Optimizer instead.\n",
      "\n",
      "WARNING:tensorflow:From /home/linnik/.conda/envs/linnik/lib/python3.7/site-packages/tensorflow/python/ops/math_grad.py:1250: add_dispatch_support.<locals>.wrapper (from tensorflow.python.ops.array_ops) is deprecated and will be removed in a future version.\n",
      "Instructions for updating:\n",
      "Use tf.where in 2.0, which has the same broadcast rule as np.where\n"
     ]
    }
   ],
   "source": [
    "# Load trained model\n",
    "\n",
    "loaded_model = load_model(model_name)"
   ]
  },
  {
   "cell_type": "code",
   "execution_count": 11,
   "metadata": {},
   "outputs": [
    {
     "name": "stdout",
     "output_type": "stream",
     "text": [
      "Found 16984 images belonging to 38 classes.\n",
      "Average time to pridict one photo using generator is 0.010195410888935113\n"
     ]
    }
   ],
   "source": [
    "# Speed test using generator\n",
    "\n",
    "test_generator = test_datagen.flow_from_directory(\n",
    "    test_dir,\n",
    "    target_size = (img_height, img_width),\n",
    "    batch_size = 1,\n",
    "    class_mode = 'categorical')\n",
    "\n",
    "nb_samples = len(test_generator.filenames)\n",
    "\n",
    "start_time = time.time()\n",
    "predict = loaded_model.predict_generator(test_generator, steps = nb_samples)\n",
    "print(\"Average time to pridict one photo using generator is\", (time.time() - start_time)/nb_samples)"
   ]
  },
  {
   "cell_type": "code",
   "execution_count": 12,
   "metadata": {},
   "outputs": [],
   "source": [
    "def Precision_Recall_metrics(test_dir, model):\n",
    "    n_classes = len(os.listdir(test_dir))\n",
    "    \n",
    "    right = 0\n",
    "    wrong = 0\n",
    "    times = []\n",
    "\n",
    "    TP = [0 for i in range(n_classes)]\n",
    "    FN = [0 for i in range(n_classes)]\n",
    "    FP = [0 for i in range(n_classes)]\n",
    "    precision = [0 for i in range(n_classes)]\n",
    "    recall = [0 for i in range(n_classes)]\n",
    "\n",
    "    for folder in os.listdir(test_dir):\n",
    "        for img in os.listdir(test_dir + \"/\" + folder):\n",
    "            imag = im.load_img(test_dir + \"/\" + folder + \"/\" + img, target_size = (img_height, img_width))\n",
    "\n",
    "            photo_ar = im.img_to_array(imag)\n",
    "            photo_ar = np.expand_dims(photo_ar, axis = 0)\n",
    "            photo_ar /= 255\n",
    "\n",
    "            start_time = time.time()\n",
    "            ans = np.argmax(model.predict(photo_ar))\n",
    "            times.append(time.time() - start_time)\n",
    "\n",
    "            if ans == int(folder):\n",
    "                right += 1\n",
    "            else:\n",
    "                wrong += 1\n",
    "\n",
    "\n",
    "            if ans == int(folder):\n",
    "                TP[ans] += 1\n",
    "            if ans != int(folder):\n",
    "                FN[ans] += 1\n",
    "                FP[int(folder)] += 1\n",
    "\n",
    "\n",
    "    for i in range(n_classes):\n",
    "        try:\n",
    "            precision[i] = TP[i]/(TP[i] + FP[i])\n",
    "        except:\n",
    "            precision[i] = 0\n",
    "\n",
    "        try:\n",
    "            recall[i] = TP[i]/(TP[i] + FN[i])\n",
    "        except:\n",
    "            recall[i] = 0\n",
    "    precision = np.array(precision)\n",
    "    recall = np.array(recall)\n",
    "    \n",
    "    accuracy = right/(right + wrong)\n",
    "    avr_time = np.array(times).mean()\n",
    "    \n",
    "    return accuracy, avr_time, precision, recall"
   ]
  },
  {
   "cell_type": "code",
   "execution_count": 13,
   "metadata": {},
   "outputs": [
    {
     "name": "stdout",
     "output_type": "stream",
     "text": [
      "Accuracy on test set is 0.9958195949128592\n",
      "Average time to predict one photo without generator is 0.00989689975204863 seconds\n",
      "\n",
      "Precision: [1.         0.99649123 0.99560761 1.         1.         0.98214286\n",
      " 0.99122807 0.99375    0.99685535 0.99865093 0.99437095 0.9935\n",
      " 1.         0.99590164 1.         0.98198198 1.         0.99516908\n",
      " 0.99775785 0.99713467 0.99758454 0.99726027 0.99016393 1.\n",
      " 1.         0.99280576 1.         1.         1.         1.\n",
      " 1.         1.         1.         0.98706897 1.         0.97826087\n",
      " 0.99264706 0.97794118]\n",
      "Recall: [0.99579832 1.         0.99415205 1.         0.99672131 0.98802395\n",
      " 0.99122807 0.98757764 0.98447205 0.99596367 0.9946509  0.99899447\n",
      " 1.         1.         0.9921875  1.         0.9973545  0.99516908\n",
      " 1.         0.99145299 1.         0.99453552 1.         0.99319728\n",
      " 1.         1.         1.         1.         1.         1.\n",
      " 1.         1.         1.         0.99134199 0.9787234  1.\n",
      " 0.97826087 0.97080292]\n",
      "\n",
      "Precision max, min, mean: 1.0 0.9779411764705882 0.9953756524496713\n",
      "Recall max, min, mean: 1.0 0.9708029197080292 0.9950160128073954\n",
      "CPU times: user 1min 46s, sys: 17.5 s, total: 2min 3s\n",
      "Wall time: 2min 58s\n"
     ]
    }
   ],
   "source": [
    "%%time\n",
    "\n",
    "accuracy, avr_time, precision, recall = Precision_Recall_metrics(test_dir, loaded_model)\n",
    "            \n",
    "\n",
    "print(\"Accuracy on test set is\", accuracy)\n",
    "print(\"Average time to predict one photo without generator is\", avr_time, \"seconds\")\n",
    "\n",
    "print()\n",
    "\n",
    "print(\"Precision:\", precision)\n",
    "print(\"Recall:\", recall)\n",
    "\n",
    "print()\n",
    "\n",
    "print(\"Precision max, min, mean:\", precision.max(), precision.min(), precision.mean())\n",
    "print(\"Recall max, min, mean:\", recall.max(), recall.min(), recall.mean())"
   ]
  },
  {
   "cell_type": "code",
   "execution_count": 14,
   "metadata": {},
   "outputs": [
    {
     "data": {
      "text/plain": [
       "<Figure size 1440x720 with 0 Axes>"
      ]
     },
     "metadata": {},
     "output_type": "display_data"
    },
    {
     "data": {
      "image/png": "[encoded data removed]",
      "text/plain": [
       "<Figure size 864x432 with 1 Axes>"
      ]
     },
     "metadata": {
      "needs_background": "light"
     },
     "output_type": "display_data"
    }
   ],
   "source": [
    "plt.figure(figsize = (20,10))\n",
    "fig, ax = plt.subplots()\n",
    "\n",
    "ax.bar(range(n_classes), recall, label = \"Recall\")\n",
    "plt.legend(loc = 'best')\n",
    "plt.title(\"ResnetM\")\n",
    "\n",
    "fig.set_figwidth(12)\n",
    "fig.set_figheight(6)"
   ]
  },
  {
   "cell_type": "code",
   "execution_count": 15,
   "metadata": {},
   "outputs": [
    {
     "data": {
      "text/plain": [
       "<Figure size 1440x720 with 0 Axes>"
      ]
     },
     "metadata": {},
     "output_type": "display_data"
    },
    {
     "data": {
      "image/png": "[encoded data removed]",
      "text/plain": [
       "<Figure size 864x432 with 1 Axes>"
      ]
     },
     "metadata": {
      "needs_background": "light"
     },
     "output_type": "display_data"
    }
   ],
   "source": [
    "plt.figure(figsize = (20,10))\n",
    "fig, ax = plt.subplots()\n",
    "\n",
    "ax.bar(range(n_classes), precision, label = \"Precision\")\n",
    "plt.legend(loc = 'best')\n",
    "plt.title(\"ResNetM\")\n",
    "\n",
    "\n",
    "fig.set_figwidth(12)\n",
    "fig.set_figheight(6)"
   ]
  },
  {
   "cell_type": "code",
   "execution_count": 28,
   "metadata": {},
   "outputs": [],
   "source": [
    "import tensorflow as tf\n",
    "from tensorflow.python.framework import graph_io\n",
    "from tensorflow.keras.models import load_model\n",
    "\n",
    "from keras.models import *\n",
    "from keras.layers import *\n",
    "from keras.optimizers import *"
   ]
  },
  {
   "cell_type": "code",
   "execution_count": 31,
   "metadata": {},
   "outputs": [
    {
     "name": "stdout",
     "output_type": "stream",
     "text": [
      "WARNING:tensorflow:From <ipython-input-31-d22d3fe33d9a>:3: remove_training_nodes (from tensorflow.python.framework.graph_util_impl) is deprecated and will be removed in a future version.\n",
      "Instructions for updating:\n",
      "Use `tf.compat.v1.graph_util.remove_training_nodes`\n",
      "WARNING:tensorflow:From <ipython-input-31-d22d3fe33d9a>:4: convert_variables_to_constants (from tensorflow.python.framework.graph_util_impl) is deprecated and will be removed in a future version.\n",
      "Instructions for updating:\n",
      "Use `tf.compat.v1.graph_util.convert_variables_to_constants`\n",
      "WARNING:tensorflow:From /home/linnik/.conda/envs/linnik/lib/python3.7/site-packages/tensorflow/python/framework/graph_util_impl.py:270: extract_sub_graph (from tensorflow.python.framework.graph_util_impl) is deprecated and will be removed in a future version.\n",
      "Instructions for updating:\n",
      "Use `tf.compat.v1.graph_util.extract_sub_graph`\n",
      "INFO:tensorflow:Froze 146 variables.\n",
      "INFO:tensorflow:Converted 146 variables to const ops.\n"
     ]
    }
   ],
   "source": [
    "def freeze_graph(graph, session, output, save_pb_dir = '.', save_pb_name = 'frozen_model.pb', save_pb_as_text=False):\n",
    "    with graph.as_default():\n",
    "        graphdef_inf = tf.graph_util.remove_training_nodes(graph.as_graph_def())\n",
    "        graphdef_frozen = tf.graph_util.convert_variables_to_constants(session, graphdef_inf, output)\n",
    "        graph_io.write_graph(graphdef_frozen, save_pb_dir, save_pb_name, as_text=save_pb_as_text)\n",
    "        return graphdef_frozen\n",
    "\n",
    "session = tf.keras.backend.get_session()\n",
    "init = tf.global_variables_initializer()\n",
    "session.run(init)\n",
    "\n",
    "\n",
    "input_names = [t.op.name for t in model.inputs]\n",
    "output_names = [t.op.name for t in model.outputs]\n",
    "\n",
    "frozen_graph = freeze_graph(session.graph, session, [out.op.name for out in model.outputs], \n",
    "                            save_pb_dir = '.', save_pb_name = 'frozen_model_ct2_Sign_ResNetM_72X72x3_33.pb')"
   ]
  },
  {
   "cell_type": "code",
   "execution_count": 32,
   "metadata": {},
   "outputs": [
    {
     "name": "stdout",
     "output_type": "stream",
     "text": [
      "['input_1'] ['fc5/Softmax']\n"
     ]
    }
   ],
   "source": [
    "# Prints input and output nodes names, take notes of them\n",
    "\n",
    "print(input_names, output_names)"
   ]
  },
  {
   "cell_type": "markdown",
   "metadata": {},
   "source": [
    "# Tune 4.3"
   ]
  },
  {
   "cell_type": "code",
   "execution_count": 26,
   "metadata": {},
   "outputs": [],
   "source": [
    "for photo in os.listdir(test_dir + \"34\"):\n",
    "    imag = im.load_img(test_dir + \"34/\" + photo, target_size = (img_height, img_width))\n",
    "\n",
    "    photo_ar = im.img_to_array(imag)\n",
    "    photo_ar = np.expand_dims(photo_ar, axis = 0)\n",
    "    photo_ar /= 255\n",
    "    \n",
    "    pred = np.argmax(loaded_model.predict(photo_ar))    \n",
    "    if pred != 34:\n",
    "        shutil.move(test_dir + \"34/\" + photo, train_dir + \"34/\" + photo)"
   ]
  },
  {
   "cell_type": "markdown",
   "metadata": {},
   "source": [
    "# Tune NKBVS"
   ]
  },
  {
   "cell_type": "code",
   "execution_count": 14,
   "metadata": {},
   "outputs": [],
   "source": [
    "photos_dir = \"/home/linnik/Datasets/Signs/nkbvs_ts_crops_RGB/\"\n",
    "temp_dir = \"/home/linnik/Datasets/Signs/temp/\"\n",
    "\n",
    "for img in os.listdir(photos_dir):\n",
    "    imag = im.load_img(photos_dir + img, target_size = (img_height, img_width))\n",
    "\n",
    "    photo_ar = im.img_to_array(imag)\n",
    "    photo_ar = np.expand_dims(photo_ar, axis = 0)\n",
    "    photo_ar /= 255\n",
    "\n",
    "    pred = np.argmax(loaded_model.predict(photo_ar))\n",
    "    \n",
    "    os.makedirs(temp_dir + str(pred), exist_ok = True)\n",
    "    shutil.copy(photos_dir + img, temp_dir + str(pred))"
   ]
  }
 ],
 "metadata": {
  "kernelspec": {
   "display_name": "Python 3",
   "language": "python",
   "name": "python3"
  },
  "language_info": {
   "codemirror_mode": {
    "name": "ipython",
    "version": 3
   },
   "file_extension": ".py",
   "mimetype": "text/x-python",
   "name": "python",
   "nbconvert_exporter": "python",
   "pygments_lexer": "ipython3",
   "version": "3.7.5"
  }
 },
 "nbformat": 4,
 "nbformat_minor": 2
}
