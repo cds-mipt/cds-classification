{
 "cells": [
  {
   "cell_type": "code",
   "execution_count": 3,
   "metadata": {
    "colab": {
     "base_uri": "https://localhost:8080/",
     "height": 35
    },
    "colab_type": "code",
    "executionInfo": {
     "elapsed": 2872,
     "status": "ok",
     "timestamp": 1565770113601,
     "user": {
      "displayName": "Никита Алексеевич Линдеманн",
      "photoUrl": "",
      "userId": "03822470132985854182"
     },
     "user_tz": -180
    },
    "id": "jD6iyiKcznfE",
    "outputId": "562d56f8-2bb5-4dc5-ffb4-8e997b75fd6a"
   },
   "outputs": [],
   "source": [
    "import keras\n",
    "import sys\n",
    "\n",
    "import numpy as np\n",
    "import pandas as pd \n",
    "import cv2\n",
    "%matplotlib inline\n",
    "import matplotlib.pyplot as plt\n",
    "import pickle\n",
    "import csv\n",
    "from sklearn.metrics import confusion_matrix, classification_report\n",
    "import tensorflow as tf\n",
    "from PIL import Image\n",
    "import os\n",
    "import tensorflow as tf\n",
    "\n",
    "from keras.layers import Input\n",
    "from keras.applications import xception\n",
    "from keras.preprocessing import image\n",
    "\n",
    "from tensorflow.keras.preprocessing import image as im\n",
    "import time\n",
    "\n",
    "from keras.preprocessing.image import ImageDataGenerator\n",
    "from keras.applications import densenet\n",
    "from keras.models import Sequential, Model, load_model\n",
    "from keras.layers import Conv2D, MaxPooling2D\n",
    "from keras.layers import Activation, Dropout, Flatten, Dense\n",
    "from keras.callbacks import EarlyStopping, ReduceLROnPlateau, ModelCheckpoint, Callback\n",
    "from keras import regularizers\n",
    "from keras import backend as K\n",
    "from sklearn.preprocessing import OneHotEncoder\n",
    "from keras.utils import to_categorical\n",
    "from tensorflow.keras.models import load_model"
   ]
  },
  {
   "cell_type": "code",
   "execution_count": 5,
   "metadata": {},
   "outputs": [],
   "source": [
    "os.environ[\"CUDA_VISIBLE_DEVICES\"] = \"3\""
   ]
  },
  {
   "cell_type": "code",
   "execution_count": 6,
   "metadata": {},
   "outputs": [],
   "source": [
    "train_data_dir = \"/home/linnik/My_dataset_new/train\"   \n",
    "validation_data_dir = \"/home/linnik/My_dataset_new/val\""
   ]
  },
  {
   "cell_type": "code",
   "execution_count": 7,
   "metadata": {
    "colab": {},
    "colab_type": "code",
    "id": "mBmCiBDa0JYY"
   },
   "outputs": [],
   "source": [
    "img_width, img_height = 71, 71\n",
    "nb_train_samples = 8403\n",
    "nb_validation_samples = 502\n",
    "epochs = 50\n",
    "batch_size = 8\n",
    "n_classes = 11"
   ]
  },
  {
   "cell_type": "code",
   "execution_count": 8,
   "metadata": {},
   "outputs": [
    {
     "name": "stdout",
     "output_type": "stream",
     "text": [
      "WARNING:tensorflow:From /home/linnik/.conda/envs/linnik/lib/python3.7/site-packages/keras/backend/tensorflow_backend.py:66: The name tf.get_default_graph is deprecated. Please use tf.compat.v1.get_default_graph instead.\n",
      "\n"
     ]
    }
   ],
   "source": [
    "K.set_learning_phase(1)"
   ]
  },
  {
   "cell_type": "code",
   "execution_count": 9,
   "metadata": {
    "colab": {},
    "colab_type": "code",
    "id": "PBHnxhrt0Ja8"
   },
   "outputs": [],
   "source": [
    "train_datagen = ImageDataGenerator(\n",
    "    rescale=1.0 / 255,\n",
    "    zoom_range=0.2,\n",
    "    rotation_range = 5,\n",
    "    width_shift_range = 0.2,\n",
    "    height_shift_range = 0.2,\n",
    "    horizontal_flip = False,\n",
    "    vertical_flip = False)\n",
    "\n",
    "test_datagen = ImageDataGenerator(rescale = 1.0 / 255)"
   ]
  },
  {
   "cell_type": "code",
   "execution_count": 10,
   "metadata": {
    "colab": {
     "base_uri": "https://localhost:8080/",
     "height": 52
    },
    "colab_type": "code",
    "executionInfo": {
     "elapsed": 2148,
     "status": "ok",
     "timestamp": 1565703644666,
     "user": {
      "displayName": "Никита Алексеевич Линдеманн",
      "photoUrl": "",
      "userId": "03822470132985854182"
     },
     "user_tz": -180
    },
    "id": "L3xJ0eaU0Jdf",
    "outputId": "499d0b5f-57a9-4e20-b84f-256aa112211d"
   },
   "outputs": [
    {
     "name": "stdout",
     "output_type": "stream",
     "text": [
      "Found 8403 images belonging to 11 classes.\n",
      "Found 502 images belonging to 11 classes.\n"
     ]
    }
   ],
   "source": [
    "train_generator = train_datagen.flow_from_directory(\n",
    "    train_data_dir,\n",
    "    target_size = (img_width, img_height),\n",
    "    batch_size = batch_size,\n",
    "    class_mode = 'categorical')\n",
    "\n",
    "validation_generator = test_datagen.flow_from_directory(\n",
    "    validation_data_dir,\n",
    "    target_size = (img_width, img_height),\n",
    "    batch_size = batch_size,\n",
    "    class_mode = 'categorical')"
   ]
  },
  {
   "cell_type": "code",
   "execution_count": 11,
   "metadata": {
    "colab": {},
    "colab_type": "code",
    "id": "_DLJnNo80Jf9"
   },
   "outputs": [],
   "source": [
    "def build_model_Xception():\n",
    "    base_model = xception.Xception(include_top=True, \n",
    "                                      weights = None,\n",
    "                                      input_tensor = None,\n",
    "                                      input_shape=(img_width, img_height, 3),\n",
    "                                      pooling=None,\n",
    "                                      classes = n_classes)\n",
    "  \n",
    "    for layer in base_model.layers:\n",
    "        layer.trainable = True\n",
    "      \n",
    "    model = Model(inputs = base_model.input, outputs = base_model.output)\n",
    "    return model"
   ]
  },
  {
   "cell_type": "code",
   "execution_count": 12,
   "metadata": {
    "colab": {},
    "colab_type": "code",
    "id": "J8-242z82p2H"
   },
   "outputs": [
    {
     "name": "stdout",
     "output_type": "stream",
     "text": [
      "WARNING:tensorflow:From /home/linnik/.conda/envs/linnik/lib/python3.7/site-packages/keras/backend/tensorflow_backend.py:541: The name tf.placeholder is deprecated. Please use tf.compat.v1.placeholder instead.\n",
      "\n",
      "WARNING:tensorflow:From /home/linnik/.conda/envs/linnik/lib/python3.7/site-packages/keras/backend/tensorflow_backend.py:4432: The name tf.random_uniform is deprecated. Please use tf.random.uniform instead.\n",
      "\n",
      "WARNING:tensorflow:From /home/linnik/.conda/envs/linnik/lib/python3.7/site-packages/keras/backend/tensorflow_backend.py:190: The name tf.get_default_session is deprecated. Please use tf.compat.v1.get_default_session instead.\n",
      "\n",
      "WARNING:tensorflow:From /home/linnik/.conda/envs/linnik/lib/python3.7/site-packages/keras/backend/tensorflow_backend.py:197: The name tf.ConfigProto is deprecated. Please use tf.compat.v1.ConfigProto instead.\n",
      "\n",
      "WARNING:tensorflow:From /home/linnik/.conda/envs/linnik/lib/python3.7/site-packages/keras/backend/tensorflow_backend.py:2041: The name tf.nn.fused_batch_norm is deprecated. Please use tf.compat.v1.nn.fused_batch_norm instead.\n",
      "\n",
      "WARNING:tensorflow:From /home/linnik/.conda/envs/linnik/lib/python3.7/site-packages/keras/backend/tensorflow_backend.py:4267: The name tf.nn.max_pool is deprecated. Please use tf.nn.max_pool2d instead.\n",
      "\n",
      "WARNING:tensorflow:From /home/linnik/.conda/envs/linnik/lib/python3.7/site-packages/keras/optimizers.py:793: The name tf.train.Optimizer is deprecated. Please use tf.compat.v1.train.Optimizer instead.\n",
      "\n"
     ]
    }
   ],
   "source": [
    "model = build_model_Xception()\n",
    "model.compile(loss = 'categorical_crossentropy', optimizer = 'adam', metrics = ['acc'])"
   ]
  },
  {
   "cell_type": "code",
   "execution_count": 13,
   "metadata": {
    "colab": {},
    "colab_type": "code",
    "id": "WHQMKd6h3HZq"
   },
   "outputs": [],
   "source": [
    "early_stop = EarlyStopping(monitor = 'val_loss', patience = 8, verbose = 1, min_delta = 1e-4) # остановка обучения, если loss на валидационном множесте улучшается менее чем на 10^-4\n",
    "reduce_lr = ReduceLROnPlateau(monitor = 'val_loss', factor = 0.1, patience = 4, verbose = 1, min_delta = 1e-4)\n",
    "check = ModelCheckpoint(\"Best_Xception_50_epochs.hdf5\", monitor = \"val_acc\", save_best_only = True) # сохранение лучшей (с наибольшим acc на валидационном множестве) сети\n",
    "callbacks_list = [early_stop, reduce_lr, check]"
   ]
  },
  {
   "cell_type": "code",
   "execution_count": 14,
   "metadata": {
    "colab": {
     "base_uri": "https://localhost:8080/",
     "height": 1000
    },
    "colab_type": "code",
    "executionInfo": {
     "elapsed": 7458951,
     "status": "ok",
     "timestamp": 1565714016693,
     "user": {
      "displayName": "Никита Алексеевич Линдеманн",
      "photoUrl": "",
      "userId": "03822470132985854182"
     },
     "user_tz": -180
    },
    "id": "UL_PGIJ03t0_",
    "outputId": "01a7c531-0969-4c72-c250-2c2d8f61f55f"
   },
   "outputs": [
    {
     "name": "stdout",
     "output_type": "stream",
     "text": [
      "WARNING:tensorflow:From /home/linnik/.conda/envs/linnik/lib/python3.7/site-packages/tensorflow/python/ops/math_grad.py:1250: add_dispatch_support.<locals>.wrapper (from tensorflow.python.ops.array_ops) is deprecated and will be removed in a future version.\n",
      "Instructions for updating:\n",
      "Use tf.where in 2.0, which has the same broadcast rule as np.where\n",
      "Epoch 1/50\n",
      "760/760 [==============================] - 51s 67ms/step - loss: 1.1297 - acc: 0.6157 - val_loss: 3.5010 - val_acc: 0.4677\n",
      "Epoch 2/50\n",
      "760/760 [==============================] - 35s 46ms/step - loss: 0.4327 - acc: 0.8396 - val_loss: 3.1885 - val_acc: 0.5405\n",
      "Epoch 3/50\n",
      "760/760 [==============================] - 39s 52ms/step - loss: 0.2003 - acc: 0.9354 - val_loss: 3.7807 - val_acc: 0.5405\n",
      "Epoch 4/50\n",
      "760/760 [==============================] - 37s 49ms/step - loss: 0.1653 - acc: 0.9474 - val_loss: 3.6922 - val_acc: 0.5769\n",
      "Epoch 5/50\n",
      "760/760 [==============================] - 38s 50ms/step - loss: 0.1013 - acc: 0.9651 - val_loss: 4.0177 - val_acc: 0.5425\n",
      "Epoch 6/50\n",
      "760/760 [==============================] - 39s 52ms/step - loss: 0.0992 - acc: 0.9717 - val_loss: 5.1287 - val_acc: 0.4130\n",
      "\n",
      "Epoch 00006: ReduceLROnPlateau reducing learning rate to 0.00010000000474974513.\n",
      "Epoch 7/50\n",
      "760/760 [==============================] - 35s 47ms/step - loss: 0.0324 - acc: 0.9903 - val_loss: 4.3887 - val_acc: 0.5223\n",
      "Epoch 8/50\n",
      "760/760 [==============================] - 40s 53ms/step - loss: 0.0110 - acc: 0.9972 - val_loss: 3.3792 - val_acc: 0.6113\n",
      "Epoch 9/50\n",
      "760/760 [==============================] - 33s 43ms/step - loss: 0.0119 - acc: 0.9964 - val_loss: 3.9845 - val_acc: 0.5405\n",
      "Epoch 10/50\n",
      "760/760 [==============================] - 41s 53ms/step - loss: 0.0117 - acc: 0.9964 - val_loss: 3.6332 - val_acc: 0.6032\n",
      "\n",
      "Epoch 00010: ReduceLROnPlateau reducing learning rate to 1.0000000474974514e-05.\n",
      "Epoch 00010: early stopping\n"
     ]
    }
   ],
   "source": [
    "model_history = model.fit_generator(\n",
    "    train_generator,\n",
    "    epochs = epochs,\n",
    "    validation_data = validation_generator,\n",
    "    validation_steps = nb_validation_samples // batch_size,\n",
    "    callbacks = callbacks_list,\n",
    "    steps_per_epoch = nb_train_samples // batch_size)"
   ]
  },
  {
   "cell_type": "code",
   "execution_count": 15,
   "metadata": {
    "colab": {},
    "colab_type": "code",
    "id": "_tUuh_UlMhT0"
   },
   "outputs": [
    {
     "name": "stdout",
     "output_type": "stream",
     "text": [
      "WARNING:tensorflow:From /home/linnik/.conda/envs/linnik/lib/python3.7/site-packages/tensorflow/python/ops/init_ops.py:1251: calling VarianceScaling.__init__ (from tensorflow.python.ops.init_ops) with dtype is deprecated and will be removed in a future version.\n",
      "Instructions for updating:\n",
      "Call initializer instance with the dtype argument instead of passing it to the constructor\n"
     ]
    }
   ],
   "source": [
    "loaded_model = load_model(\"Best_Xception_50_epochs.hdf5\")"
   ]
  },
  {
   "cell_type": "code",
   "execution_count": 22,
   "metadata": {
    "colab": {},
    "colab_type": "code",
    "id": "ERHU4h94W-I8"
   },
   "outputs": [],
   "source": [
    "right = 0\n",
    "wrong = 0\n",
    "times = []\n",
    "\n",
    "for folder in os.listdir(validation_data_dir):\n",
    "    for img in os.listdir(validation_data_dir + \"/\" + folder):\n",
    "        imag = im.load_img(validation_data_dir + \"/\" + folder + \"/\" + img, target_size = (img_width, img_height))\n",
    "        \n",
    "        photo_ar = im.img_to_array(imag)\n",
    "        photo_ar = np.expand_dims(photo_ar, axis = 0)\n",
    "        photo_ar /= 255\n",
    "        \n",
    "        start_time = time.time()\n",
    "        ans = np.argmax(loaded_model.predict(photo_ar))\n",
    "        times.append(time.time() - start_time)\n",
    "        \n",
    "        if ans == int(folder)-1:\n",
    "            right += 1\n",
    "        else:\n",
    "            wrong += 1"
   ]
  },
  {
   "cell_type": "code",
   "execution_count": 23,
   "metadata": {
    "colab": {
     "base_uri": "https://localhost:8080/",
     "height": 52
    },
    "colab_type": "code",
    "executionInfo": {
     "elapsed": 561,
     "status": "ok",
     "timestamp": 1565715758840,
     "user": {
      "displayName": "Никита Алексеевич Линдеманн",
      "photoUrl": "",
      "userId": "03822470132985854182"
     },
     "user_tz": -180
    },
    "id": "7yobGrXw6F2E",
    "outputId": "58a9573d-a80c-4591-bbdf-9d3180c48f8c"
   },
   "outputs": [
    {
     "name": "stdout",
     "output_type": "stream",
     "text": [
      "Accuracy on validation set is 0.7888446215139442\n",
      "Average time to pridict one photo is 0.01221259656655361 seconds\n"
     ]
    }
   ],
   "source": [
    "print(\"Accuracy on validation set is\", right/(right + wrong))\n",
    "print(\"Average time to pridict one photo is\", np.array(times).mean(), \"seconds\")"
   ]
  },
  {
   "cell_type": "code",
   "execution_count": 31,
   "metadata": {
    "colab": {},
    "colab_type": "code",
    "id": "kwT9qOb96iVx"
   },
   "outputs": [],
   "source": [
    "# Проверка качества сети по классам (Precision and Recall)\n",
    "\n",
    "TP = [0 for i in range(n_classes)]\n",
    "FN = [0 for i in range(n_classes)]\n",
    "FP = [0 for i in range(n_classes)]\n",
    "\n",
    "precision = [0 for i in range(n_classes)]\n",
    "recall = [0 for i in range(n_classes)]\n",
    "\n",
    "for folder in os.listdir(validation_data_dir):\n",
    "    for img in os.listdir(validation_data_dir + \"/\" + folder):\n",
    "        imag = im.load_img(validation_data_dir + \"/\" + folder + \"/\" + img, target_size = (img_width, img_height))\n",
    "        \n",
    "        photo_ar = im.img_to_array(imag)\n",
    "        photo_ar = np.expand_dims(photo_ar, axis = 0)\n",
    "        photo_ar /= 255\n",
    "        \n",
    "        ans = np.argmax(loaded_model.predict(photo_ar))\n",
    "    \n",
    "        if ans == int(folder)-1:\n",
    "            TP[ans] += 1\n",
    "        if ans != int(folder)-1:\n",
    "            FN[ans] += 1\n",
    "            FP[int(folder)-1] += 1"
   ]
  },
  {
   "cell_type": "code",
   "execution_count": 32,
   "metadata": {
    "colab": {
     "base_uri": "https://localhost:8080/",
     "height": 52
    },
    "colab_type": "code",
    "executionInfo": {
     "elapsed": 521,
     "status": "ok",
     "timestamp": 1565716076505,
     "user": {
      "displayName": "Никита Алексеевич Линдеманн",
      "photoUrl": "",
      "userId": "03822470132985854182"
     },
     "user_tz": -180
    },
    "id": "2MpqD6e56l9w",
    "outputId": "29dc25a3-22bd-4749-c18e-d58cc595fc44"
   },
   "outputs": [
    {
     "name": "stdout",
     "output_type": "stream",
     "text": [
      "1.0 0.0 0.6574384396965042\n",
      "1.0 0.0 0.5896097521136655\n"
     ]
    }
   ],
   "source": [
    "for i in range(n_classes):\n",
    "    try:\n",
    "        precision[i] = TP[i]/(TP[i] + FP[i])\n",
    "    except:\n",
    "        precision[i] = 0\n",
    "        \n",
    "    try:\n",
    "        recall[i] = TP[i]/(TP[i] + FN[i])\n",
    "    except:\n",
    "        recall[i] = 0\n",
    "    \n",
    "precision = np.array(precision)\n",
    "recall = np.array(recall)\n",
    "\n",
    "print(precision.max(), precision.min(), precision.mean())\n",
    "print(recall.max(), recall.min(), recall.mean())"
   ]
  }
 ],
 "metadata": {
  "accelerator": "GPU",
  "colab": {
   "name": "Xception_Done.ipynb",
   "provenance": []
  },
  "kernelspec": {
   "display_name": "Python 3",
   "language": "python",
   "name": "python3"
  },
  "language_info": {
   "codemirror_mode": {
    "name": "ipython",
    "version": 3
   },
   "file_extension": ".py",
   "mimetype": "text/x-python",
   "name": "python",
   "nbconvert_exporter": "python",
   "pygments_lexer": "ipython3",
   "version": "3.7.5"
  }
 },
 "nbformat": 4,
 "nbformat_minor": 1
}
