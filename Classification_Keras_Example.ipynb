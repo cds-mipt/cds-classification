{
 "cells": [
  {
   "cell_type": "markdown",
   "metadata": {},
   "source": [
    "# Train"
   ]
  },
  {
   "cell_type": "code",
   "execution_count": 74,
   "metadata": {},
   "outputs": [],
   "source": [
    "import numpy as np\n",
    "import pandas as pd \n",
    "import cv2\n",
    "%matplotlib inline\n",
    "import matplotlib.pyplot as plt\n",
    "import pickle\n",
    "import csv\n",
    "import tensorflow as tf\n",
    "from PIL import Image\n",
    "import os\n",
    "import keras\n",
    "import sys\n",
    "\n",
    "# Import architectures\n",
    "from keras.applications import xception\n",
    "\n",
    "from keras.preprocessing import image\n",
    "from tensorflow.keras.preprocessing import image as im\n",
    "import time\n",
    "import datetime\n",
    "\n",
    "from keras.preprocessing.image import ImageDataGenerator\n",
    "from keras.models import load_model\n",
    "from keras.callbacks import EarlyStopping, ReduceLROnPlateau, ModelCheckpoint, Callback\n",
    "from keras import regularizers\n",
    "from keras import backend as K\n",
    "from sklearn.preprocessing import OneHotEncoder\n",
    "\n",
    "from keras.preprocessing.image import ImageDataGenerator, array_to_img, img_to_array, load_img\n",
    "from keras.models import Sequential, Model\n",
    "from keras import layers\n",
    "from keras.layers import Conv2D, MaxPooling2D, BatchNormalization, Input, AveragePooling2D\n",
    "from keras.layers import Activation, Flatten, Dense, Dropout"
   ]
  },
  {
   "cell_type": "code",
   "execution_count": 75,
   "metadata": {},
   "outputs": [],
   "source": [
    "# Train phase\n",
    "\n",
    "tf.keras.backend.set_learning_phase(1) "
   ]
  },
  {
   "cell_type": "code",
   "execution_count": 76,
   "metadata": {},
   "outputs": [],
   "source": [
    "# Choose GPU\n",
    "\n",
    "os.environ[\"CUDA_VISIBLE_DEVICES\"] = \"0\""
   ]
  },
  {
   "cell_type": "code",
   "execution_count": 77,
   "metadata": {},
   "outputs": [],
   "source": [
    "now = datetime.datetime.now()\n",
    "timeset = now.strftime(\"%d-%m-%Y_%H:%M\")\n",
    "\n",
    "\n",
    "# 1) Path to train and test datasets\n",
    "train_dir = \"/home/linnik/Datasets/Traffic_lights/Union_new/train/\"   \n",
    "test_dir = \"/home/linnik/Datasets/Traffic_lights/Union_new/test/\"\n",
    "\n",
    "\n",
    "# 2) Target width and height of input images, number of classes, number of train and test images, batch size, epochs\n",
    "img_height, img_width = 96, 32\n",
    "n_classes = len(os.listdir(train_dir))\n",
    "nb_train_samples = sum([len(os.listdir(train_dir + folder)) for folder in os.listdir(train_dir)])\n",
    "nb_test_samples = sum([len(os.listdir(test_dir + folder)) for folder in os.listdir(test_dir)])\n",
    "batch_size = 128\n",
    "epochs = 1\n",
    "\n",
    "\n",
    "# 3) Name of file where will be saved trained model\n",
    "# model_name = \".../Architecture_InputShape_NClasses_date_time.hdf5\"\n",
    "model_name = \"/home/linnik/Nets/My_Model.hdf5\"\n",
    "\n",
    "\n",
    "# 4) Compile parametrs\n",
    "loss_ = 'categorical_crossentropy'\n",
    "optimizer_ = 'adam'\n",
    "metrics_ = ['acc']\n",
    "\n",
    "\n",
    "# 5) Classes name\n",
    "classes_names = {0: \"NA\", 1: \"R\", 2: \"Y\", 3: \"G\"}\n",
    "\n",
    "\n",
    "# 6) Logs for confedence on test data \n",
    "# csv_path = \".../Architecture_InputShape_NClasses_date_time_ConfedenceLog.csv\"\n",
    "csv_path = \"/home/linnik/Nets/Confedence_Logs/My_Model_96x32x3_4_\" + timeset + \"_ConfedenceLog.csv\"\n",
    "\n",
    "\n",
    "# 7) General logs of the model\n",
    "# log_path = \".../Architecture_InputShape_NClasses_date_time_GeneralLog.txt\"\n",
    "log_path = \"/home/linnik/Nets/General_Logs/My_Model_96x32x3_4_\" + timeset + \"_GeneralLog.txt\""
   ]
  },
  {
   "cell_type": "code",
   "execution_count": 78,
   "metadata": {},
   "outputs": [],
   "source": [
    "train_datagen = ImageDataGenerator(\n",
    "    rescale = 1.0 / 255,\n",
    "    zoom_range = 0.2,\n",
    "    rotation_range = 5,\n",
    "    width_shift_range = img_width // 3,\n",
    "    height_shift_range = img_height // 3,\n",
    "    horizontal_flip = True,\n",
    "    vertical_flip = False)\n",
    "\n",
    "test_datagen = ImageDataGenerator(rescale = 1.0 / 255)"
   ]
  },
  {
   "cell_type": "code",
   "execution_count": 79,
   "metadata": {},
   "outputs": [
    {
     "name": "stdout",
     "output_type": "stream",
     "text": [
      "Found 24755 images belonging to 4 classes.\n",
      "Found 5066 images belonging to 4 classes.\n"
     ]
    }
   ],
   "source": [
    "train_generator = train_datagen.flow_from_directory(\n",
    "    train_dir,\n",
    "    target_size = (img_height, img_width),\n",
    "    batch_size = batch_size,\n",
    "    class_mode = 'categorical')\n",
    "\n",
    "test_generator = test_datagen.flow_from_directory(\n",
    "    test_dir,\n",
    "    target_size = (img_height, img_width),\n",
    "    batch_size = batch_size,\n",
    "    class_mode = 'categorical')"
   ]
  },
  {
   "cell_type": "code",
   "execution_count": 80,
   "metadata": {},
   "outputs": [
    {
     "name": "stdout",
     "output_type": "stream",
     "text": [
      "[0. 0. 0. 1.]\n",
      "(96, 32, 3)\n"
     ]
    },
    {
     "data": {
      "image/png": "[encoded data removed]",
      "text/plain": [
       "<Figure size 432x288 with 1 Axes>"
      ]
     },
     "metadata": {
      "needs_background": "light"
     },
     "output_type": "display_data"
    }
   ],
   "source": [
    "# Check size\n",
    "\n",
    "for x, y in train_generator:\n",
    "    plt.imshow(x[0])\n",
    "    print(y[0])\n",
    "    print(x[0].shape)\n",
    "    break"
   ]
  },
  {
   "cell_type": "code",
   "execution_count": 81,
   "metadata": {},
   "outputs": [],
   "source": [
    "def identity_block(input_tensor, kernel_size, filters, stage, block):\n",
    "    \"\"\"The identity block is the block that has no conv layer at shortcut.\n",
    "    # Arguments\n",
    "        input_tensor: input tensor\n",
    "        kernel_size: default 3, the kernel size of middle conv layer at main path\n",
    "        filters: list of integers, the filters of 3 conv layer at main path\n",
    "        stage: integer, current stage label, used for generating layer names\n",
    "        block: 'a','b'..., current block label, used for generating layer names\n",
    "    # Returns\n",
    "        Output tensor for the block.\n",
    "    \"\"\"\n",
    "    filters1, filters2, filters3 = filters\n",
    "    if K.image_data_format() == 'channels_last':\n",
    "        bn_axis = 3\n",
    "    else:\n",
    "        bn_axis = 1\n",
    "    conv_name_base = 'res' + str(stage) + block + '_branch'\n",
    "    bn_name_base = 'bn' + str(stage) + block + '_branch'\n",
    "\n",
    "    x = Conv2D(filters1, (1, 1), name=conv_name_base + '2a')(input_tensor)\n",
    "    x = BatchNormalization(axis=bn_axis, name=bn_name_base + '2a')(x)\n",
    "    x = Activation('relu')(x)\n",
    "\n",
    "    x = Conv2D(filters2, kernel_size,\n",
    "               padding='same', name=conv_name_base + '2b')(x)\n",
    "    x = BatchNormalization(axis=bn_axis, name=bn_name_base + '2b')(x)\n",
    "    x = Activation('relu')(x)\n",
    "\n",
    "    x = Conv2D(filters3, (1, 1), name=conv_name_base + '2c')(x)\n",
    "    x = BatchNormalization(axis=bn_axis, name=bn_name_base + '2c')(x)\n",
    "\n",
    "    x = layers.add([x, input_tensor])\n",
    "    x = Activation('relu')(x)\n",
    "    return x\n",
    "\n",
    "\n",
    "def conv_block(input_tensor, kernel_size, filters, stage, block, strides=(2, 2)):\n",
    "    \"\"\"A block that has a conv layer at shortcut.\n",
    "    # Arguments\n",
    "        input_tensor: input tensor\n",
    "        kernel_size: default 3, the kernel size of middle conv layer at main path\n",
    "        filters: list of integers, the filters of 3 conv layer at main path\n",
    "        stage: integer, current stage label, used for generating layer names\n",
    "        block: 'a','b'..., current block label, used for generating layer names\n",
    "    # Returns\n",
    "        Output tensor for the block.\n",
    "    Note that from stage 3, the first conv layer at main path is with strides=(2,2)\n",
    "    And the shortcut should have strides=(2,2) as well\n",
    "    \"\"\"\n",
    "    filters1, filters2, filters3 = filters\n",
    "    if K.image_data_format() == 'channels_last':\n",
    "        bn_axis = 3\n",
    "    else:\n",
    "        bn_axis = 1\n",
    "    conv_name_base = 'res' + str(stage) + block + '_branch'\n",
    "    bn_name_base = 'bn' + str(stage) + block + '_branch'\n",
    "\n",
    "    x = Conv2D(filters1, (1, 1), strides=strides,\n",
    "               name=conv_name_base + '2a')(input_tensor)\n",
    "    x = BatchNormalization(axis=bn_axis, name=bn_name_base + '2a')(x)\n",
    "    x = Activation('relu')(x)\n",
    "\n",
    "    x = Conv2D(filters2, kernel_size, padding='same',\n",
    "               name=conv_name_base + '2b')(x)\n",
    "    x = BatchNormalization(axis=bn_axis, name=bn_name_base + '2b')(x)\n",
    "    x = Activation('relu')(x)\n",
    "\n",
    "    x = Conv2D(filters3, (1, 1), name=conv_name_base + '2c')(x)\n",
    "    x = BatchNormalization(axis=bn_axis, name=bn_name_base + '2c')(x)\n",
    "\n",
    "    shortcut = Conv2D(filters3, (1, 1), strides=strides,\n",
    "                      name=conv_name_base + '1')(input_tensor)\n",
    "    shortcut = BatchNormalization(axis=bn_axis, name=bn_name_base + '1')(shortcut)\n",
    "\n",
    "    x = layers.add([x, shortcut])\n",
    "    x = Activation('relu')(x)\n",
    "    return x\n",
    "\n",
    "def resNetM(input_shape, classes):\n",
    "    img_input = Input(shape=input_shape)\n",
    "\n",
    "    if K.image_data_format() == 'channels_last':\n",
    "        bn_axis = 3\n",
    "    else:\n",
    "        bn_axis = 1\n",
    "\n",
    "    x = Conv2D(64, (7, 7), strides=(2, 2), padding='same', name='conv1')(img_input)\n",
    "    x = BatchNormalization(axis=bn_axis, name='bn_conv1')(x)\n",
    "    x = Activation('relu')(x)\n",
    "    x = MaxPooling2D(pool_size=(2, 2))(x)\n",
    "\n",
    "    x = conv_block(x, 3, [64, 64, 256], stage=2, block='a', strides=(1, 1))\n",
    "    x = identity_block(x, 3, [64, 64, 256], stage=2, block='b')\n",
    "    x = identity_block(x, 3, [64, 64, 256], stage=2, block='c')\n",
    "\n",
    "    x = conv_block(x, 3, [128, 128, 512], stage=3, block='a')\n",
    "    x = identity_block(x, 3, [128, 128, 512], stage=3, block='b')\n",
    "    x = identity_block(x, 3, [128, 128, 512], stage=3, block='c')\n",
    "    x = identity_block(x, 3, [128, 128, 512], stage=3, block='d')\n",
    "\n",
    "    x = AveragePooling2D((3, 3), name='avg_pool')(x)\n",
    "\n",
    "    x = Flatten()(x)\n",
    "    #x = Dense(512, activation='relu', name='fc01')(x)\n",
    "    #x = Dense(200, activation='relu', name='fc02')(x)\n",
    "    #x = Dropout(0.3, name='dr01')(x)\n",
    "    x = Dense(classes, activation='softmax', name='fc5')(x)\n",
    "\n",
    "    inputs = img_input\n",
    "\n",
    "    model = Model(inputs, x, name='resnetM')\n",
    "\n",
    "    return model"
   ]
  },
  {
   "cell_type": "code",
   "execution_count": 15,
   "metadata": {},
   "outputs": [],
   "source": [
    "# Create and compile your own model\n",
    "\n",
    "model = resNetM((img_height, img_width, 3), n_classes)\n",
    "model.compile(loss = loss_, optimizer = optimizer_, metrics = metrics_)"
   ]
  },
  {
   "cell_type": "code",
   "execution_count": 13,
   "metadata": {},
   "outputs": [
    {
     "name": "stdout",
     "output_type": "stream",
     "text": [
      "Found 24755 images belonging to 4 classes.\n",
      "Found 5066 images belonging to 4 classes.\n"
     ]
    }
   ],
   "source": [
    "# Create and compile Keras model\n",
    "\n",
    "img_height, img_width = 71, 71 # cause input size for Xception model must be at least 71x71\n",
    "\n",
    "\n",
    "# So we need to change our generators too\n",
    "train_generator = train_datagen.flow_from_directory(\n",
    "    train_dir,\n",
    "    target_size = (img_height, img_width),\n",
    "    batch_size = batch_size,\n",
    "    class_mode = 'categorical')\n",
    "\n",
    "test_generator = test_datagen.flow_from_directory(\n",
    "    test_dir,\n",
    "    target_size = (img_height, img_width),\n",
    "    batch_size = batch_size,\n",
    "    class_mode = 'categorical')\n",
    "\n",
    "\n",
    "def build_model_Xception():\n",
    "    base_model = xception.Xception(include_top = True, \n",
    "                                      weights = None,\n",
    "                                      input_tensor = None,\n",
    "                                      input_shape = (img_height, img_width, 3),\n",
    "                                      pooling = None,\n",
    "                                      classes = n_classes)\n",
    "  \n",
    "    for layer in base_model.layers:\n",
    "        layer.trainable = True\n",
    "      \n",
    "    model = Model(inputs = base_model.input, outputs = base_model.output)\n",
    "    return model\n",
    "\n",
    "\n",
    "model = build_model_Xception()\n",
    "model.compile(loss = loss_, optimizer = optimizer_, metrics = metrics_)"
   ]
  },
  {
   "cell_type": "code",
   "execution_count": 16,
   "metadata": {},
   "outputs": [],
   "source": [
    "# Callbacks\n",
    "\n",
    "early_stop = EarlyStopping(monitor = 'val_loss', patience = 8, verbose = 1, min_delta = 1e-4)\n",
    "reduce_lr = ReduceLROnPlateau(monitor = 'val_loss', factor = 0.1, patience = 4, verbose = 1, min_delta = 1e-4)\n",
    "check = ModelCheckpoint(filepath = model_name, monitor = \"val_acc\", save_best_only = True)\n",
    "\n",
    "callbacks_list = [early_stop, reduce_lr, check]"
   ]
  },
  {
   "cell_type": "code",
   "execution_count": 17,
   "metadata": {},
   "outputs": [
    {
     "name": "stdout",
     "output_type": "stream",
     "text": [
      "Epoch 1/1\n",
      "193/193 [==============================] - 43s 225ms/step - loss: 0.5731 - acc: 0.8054 - val_loss: 0.4851 - val_acc: 0.8528\n",
      "CPU times: user 56.1 s, sys: 3.11 s, total: 59.2 s\n",
      "Wall time: 1min\n"
     ]
    }
   ],
   "source": [
    "%%time\n",
    "\n",
    "# Train model\n",
    "\n",
    "model_history = model.fit_generator(\n",
    "    train_generator,\n",
    "    epochs = epochs,\n",
    "    validation_data = test_generator,\n",
    "    validation_steps = nb_test_samples // batch_size,\n",
    "    callbacks = callbacks_list,\n",
    "    steps_per_epoch = nb_train_samples // batch_size)"
   ]
  },
  {
   "cell_type": "markdown",
   "metadata": {},
   "source": [
    "# Test"
   ]
  },
  {
   "cell_type": "code",
   "execution_count": 82,
   "metadata": {},
   "outputs": [],
   "source": [
    "# Test phase\n",
    "\n",
    "tf.keras.backend.set_learning_phase(0)"
   ]
  },
  {
   "cell_type": "code",
   "execution_count": 83,
   "metadata": {},
   "outputs": [],
   "source": [
    "# Load trained model\n",
    "\n",
    "loaded_model = load_model(model_name)"
   ]
  },
  {
   "cell_type": "code",
   "execution_count": 84,
   "metadata": {},
   "outputs": [
    {
     "name": "stdout",
     "output_type": "stream",
     "text": [
      "Found 5066 images belonging to 4 classes.\n",
      "Average time to pridict one photo using generator is 0.005789668579794322\n"
     ]
    }
   ],
   "source": [
    "# Speed test using generator\n",
    "\n",
    "test_generator = test_datagen.flow_from_directory(\n",
    "    test_dir,\n",
    "    target_size = (img_height, img_width),\n",
    "    batch_size = 1,\n",
    "    class_mode = 'categorical')\n",
    "\n",
    "nb_samples = len(test_generator.filenames)\n",
    "\n",
    "start_time = time.time()\n",
    "predict = loaded_model.predict_generator(test_generator, steps = nb_samples)\n",
    "print(\"Average time to pridict one photo using generator is\", (time.time() - start_time)/nb_samples)"
   ]
  },
  {
   "cell_type": "code",
   "execution_count": 85,
   "metadata": {},
   "outputs": [],
   "source": [
    "def Precision_Recall_metrics(test_dir, model):\n",
    "    n_classes = len(os.listdir(test_dir))\n",
    "    \n",
    "    right = 0\n",
    "    wrong = 0\n",
    "    times = []\n",
    "\n",
    "    TP = [0 for i in range(n_classes)]\n",
    "    FN = [0 for i in range(n_classes)]\n",
    "    FP = [0 for i in range(n_classes)]\n",
    "    precision = [0 for i in range(n_classes)]\n",
    "    recall = [0 for i in range(n_classes)]\n",
    "\n",
    "    for folder in os.listdir(test_dir):\n",
    "        for img in os.listdir(test_dir + \"/\" + folder):\n",
    "            imag = im.load_img(test_dir + \"/\" + folder + \"/\" + img, target_size = (img_height, img_width))\n",
    "\n",
    "            photo_ar = im.img_to_array(imag)\n",
    "            photo_ar = np.expand_dims(photo_ar, axis = 0)\n",
    "            photo_ar /= 255\n",
    "\n",
    "            start_time = time.time()\n",
    "            ans = np.argmax(model.predict(photo_ar))\n",
    "            times.append(time.time() - start_time)\n",
    "\n",
    "            if ans == int(folder):\n",
    "                right += 1\n",
    "            else:\n",
    "                wrong += 1\n",
    "\n",
    "\n",
    "            if ans == int(folder):\n",
    "                TP[ans] += 1\n",
    "            if ans != int(folder):\n",
    "                FN[ans] += 1\n",
    "                FP[int(folder)] += 1\n",
    "\n",
    "\n",
    "    for i in range(n_classes):\n",
    "        try:\n",
    "            precision[i] = TP[i]/(TP[i] + FP[i])\n",
    "        except:\n",
    "            precision[i] = 0\n",
    "\n",
    "        try:\n",
    "            recall[i] = TP[i]/(TP[i] + FN[i])\n",
    "        except:\n",
    "            recall[i] = 0\n",
    "    precision = np.array(precision)\n",
    "    recall = np.array(recall)\n",
    "    \n",
    "    accuracy = right/(right + wrong)\n",
    "    avr_time = np.array(times).mean()\n",
    "    \n",
    "    return accuracy, avr_time, precision, recall"
   ]
  },
  {
   "cell_type": "code",
   "execution_count": 86,
   "metadata": {},
   "outputs": [
    {
     "name": "stdout",
     "output_type": "stream",
     "text": [
      "Accuracy on test set is 0.8523489932885906\n",
      "Average time to pridict one photo without generator is 0.006440033613341249 seconds\n",
      "\n",
      "0.9720946661956905 0.4823529411764706 0.7305245119345843\n",
      "0.9575320512820513 0.4689265536723164 0.7400729325812802\n",
      "CPU times: user 27.3 s, sys: 1.45 s, total: 28.7 s\n",
      "Wall time: 35.5 s\n"
     ]
    }
   ],
   "source": [
    "%%time\n",
    "\n",
    "accuracy, avr_time, precision, recall = Precision_Recall_metrics(test_dir, loaded_model)\n",
    "            \n",
    "\n",
    "print(\"Accuracy on test set is\", accuracy)\n",
    "print(\"Average time to pridict one photo without generator is\", avr_time, \"seconds\")\n",
    "\n",
    "print()\n",
    "\n",
    "print(precision.max(), precision.min(), precision.mean())\n",
    "print(recall.max(), recall.min(), recall.mean())"
   ]
  },
  {
   "cell_type": "code",
   "execution_count": 87,
   "metadata": {},
   "outputs": [
    {
     "data": {
      "text/plain": [
       "<Figure size 1440x720 with 0 Axes>"
      ]
     },
     "metadata": {},
     "output_type": "display_data"
    },
    {
     "data": {
      "image/png": "[encoded data removed]",
      "text/plain": [
       "<Figure size 864x432 with 1 Axes>"
      ]
     },
     "metadata": {
      "needs_background": "light"
     },
     "output_type": "display_data"
    }
   ],
   "source": [
    "plt.figure(figsize = (20,10))\n",
    "fig, ax = plt.subplots()\n",
    "\n",
    "ax.bar(list(classes_names.values()), recall, label = \"Recall\")\n",
    "plt.legend(loc = 'best')\n",
    "plt.title(\"MyNet\")\n",
    "\n",
    "fig.set_figwidth(12)\n",
    "fig.set_figheight(6)"
   ]
  },
  {
   "cell_type": "code",
   "execution_count": 88,
   "metadata": {},
   "outputs": [
    {
     "data": {
      "text/plain": [
       "<Figure size 1440x720 with 0 Axes>"
      ]
     },
     "metadata": {},
     "output_type": "display_data"
    },
    {
     "data": {
      "image/png": "[encoded data removed]",
      "text/plain": [
       "<Figure size 864x432 with 1 Axes>"
      ]
     },
     "metadata": {
      "needs_background": "light"
     },
     "output_type": "display_data"
    }
   ],
   "source": [
    "plt.figure(figsize = (20,10))\n",
    "fig, ax = plt.subplots()\n",
    "\n",
    "ax.bar(list(classes_names.values()), precision, label = \"Precision\")\n",
    "plt.legend(loc = 'best')\n",
    "plt.title(\"MyNet\")\n",
    "\n",
    "\n",
    "fig.set_figwidth(12)\n",
    "fig.set_figheight(6)"
   ]
  },
  {
   "cell_type": "markdown",
   "metadata": {},
   "source": [
    "# General Logs"
   ]
  },
  {
   "cell_type": "code",
   "execution_count": 92,
   "metadata": {},
   "outputs": [],
   "source": [
    "def general_log_txt(log_path, model, model_history, prec_rec = True):\n",
    "    stringlist = []\n",
    "    model.summary(print_fn = lambda x: stringlist.append(x))\n",
    "    short_model_summary = \"\\n\".join(stringlist)\n",
    "    \n",
    "    H = model_history\n",
    "\n",
    "    with open(log_path, \"w\") as log:\n",
    "        # Save model parametrs\n",
    "        log.write('1) Model parametrs\\n')\n",
    "        log.write(\"Train_dir: \" + train_dir + \"\\n\")\n",
    "        log.write(\"Test_dir: \" + test_dir + \"\\n\")\n",
    "\n",
    "        log.write(\"Input_shape: \" + str(img_height) + \"x\" + str(img_width) + \"x\" + \"3\" + \"\\n\")\n",
    "        log.write(\"Number_classes: \" + str(n_classes) + \"\\n\")\n",
    "        log.write(\"Number_train_samples: \" + str(nb_train_samples) + \"\\n\")\n",
    "        log.write(\"Number_test_samples: \" + str(nb_test_samples) + \"\\n\")\n",
    "        log.write(\"Batch_size: \" + str(batch_size) + \"\\n\")\n",
    "        log.write(\"Epochs: \" + str(epochs) + \"\\n\")\n",
    "\n",
    "        log.write(\"Loss_function: \" + loss_ + \"\\n\")\n",
    "        log.write(\"Optimizer: \" + optimizer_ + \"\\n\")\n",
    "        log.write(\"Metrics: \" + str(metrics_) + \"\\n\")\n",
    "\n",
    "        log.write(\"Classes_dictionary: \" + str(classes_names) + \"\\n\")\n",
    "\n",
    "        log.write(\"Csv_path: \" + csv_path + \"\\n\")\n",
    "        log.write(\"Log_path: \" + log_path + \"\\n\")\n",
    "\n",
    "        # Save model summary\n",
    "        log.write('\\n2) Model summary\\n')\n",
    "        log.write(short_model_summary)\n",
    "        log.write(\"\\n\")\n",
    "        \n",
    "        # Save model history\n",
    "        log.write('\\n3) Model history\\n')\n",
    "        log.write('Train_loss: ' + str(H.history[\"loss\"]) + '\\n')\n",
    "        log.write('Test_loss: ' + str(H.history[\"val_loss\"]) + '\\n')\n",
    "        log.write('Train_accuracy: ' + str(H.history[\"acc\"]) + '\\n')\n",
    "        log.write('Test_accuracy: ' + str(H.history[\"val_acc\"]) + '\\n')\n",
    "        \n",
    "        if prec_rec:\n",
    "            # Save model history\n",
    "            log.write('\\n4) Precision and recall:\\n')\n",
    "            log.write('Precision: ' + str(precision) + '\\n')\n",
    "            log.write('Recall: ' + str(recall) + '\\n')"
   ]
  },
  {
   "cell_type": "code",
   "execution_count": 93,
   "metadata": {},
   "outputs": [],
   "source": [
    "general_log_txt(log_path, model, model_history)"
   ]
  },
  {
   "cell_type": "markdown",
   "metadata": {},
   "source": [
    "# Confedence Logs"
   ]
  },
  {
   "cell_type": "code",
   "execution_count": 201,
   "metadata": {},
   "outputs": [],
   "source": [
    "def confedence_df(test_dir, model, classes_names, csv_path = None):\n",
    "    classes = list(classes_names.values())\n",
    "    col = [\"Image_dir\", \"Tagret_class\"]\n",
    "    for cls in classes:\n",
    "        col.append(cls)\n",
    "        \n",
    "    df = pd.DataFrame(columns = col)\n",
    "    ind = 0\n",
    "    \n",
    "    for folder in os.listdir(test_dir):\n",
    "        for img in os.listdir(test_dir + \"/\" + folder):\n",
    "            imag = im.load_img(test_dir + \"/\" + folder + \"/\" + img, target_size = (img_height, img_width))\n",
    "\n",
    "            photo_ar = im.img_to_array(imag)\n",
    "            photo_ar = np.expand_dims(photo_ar, axis = 0)\n",
    "            photo_ar /= 255\n",
    "\n",
    "            ans = np.round(loaded_model.predict(photo_ar), 4)\n",
    "            \n",
    "            tar = [test_dir + \"/\" + folder + \"/\" + img, folder]\n",
    "            for i in ans[0]:\n",
    "                tar.append(i)\n",
    "\n",
    "            df.loc[len(df)] = tar\n",
    "\n",
    "    if csv_path is not None:\n",
    "        df.to_csv(csv_path)\n",
    "            \n",
    "    return df"
   ]
  },
  {
   "cell_type": "code",
   "execution_count": 204,
   "metadata": {},
   "outputs": [
    {
     "data": {
      "text/html": [
       "<div>\n",
       "<style scoped>\n",
       "    .dataframe tbody tr th:only-of-type {\n",
       "        vertical-align: middle;\n",
       "    }\n",
       "\n",
       "    .dataframe tbody tr th {\n",
       "        vertical-align: top;\n",
       "    }\n",
       "\n",
       "    .dataframe thead th {\n",
       "        text-align: right;\n",
       "    }\n",
       "</style>\n",
       "<table border=\"1\" class=\"dataframe\">\n",
       "  <thead>\n",
       "    <tr style=\"text-align: right;\">\n",
       "      <th></th>\n",
       "      <th>Image_dir</th>\n",
       "      <th>Tagret_class</th>\n",
       "      <th>NA</th>\n",
       "      <th>R</th>\n",
       "      <th>Y</th>\n",
       "      <th>G</th>\n",
       "    </tr>\n",
       "  </thead>\n",
       "  <tbody>\n",
       "    <tr>\n",
       "      <th>0</th>\n",
       "      <td>/home/linnik/Datasets/Traffic_lights/Union_new...</td>\n",
       "      <td>3</td>\n",
       "      <td>0.0001</td>\n",
       "      <td>0.0009</td>\n",
       "      <td>0.0004</td>\n",
       "      <td>0.9985</td>\n",
       "    </tr>\n",
       "    <tr>\n",
       "      <th>1</th>\n",
       "      <td>/home/linnik/Datasets/Traffic_lights/Union_new...</td>\n",
       "      <td>0</td>\n",
       "      <td>0.9014</td>\n",
       "      <td>0.0555</td>\n",
       "      <td>0.0143</td>\n",
       "      <td>0.0288</td>\n",
       "    </tr>\n",
       "    <tr>\n",
       "      <th>2</th>\n",
       "      <td>/home/linnik/Datasets/Traffic_lights/Union_new...</td>\n",
       "      <td>2</td>\n",
       "      <td>0.0001</td>\n",
       "      <td>0.0532</td>\n",
       "      <td>0.9464</td>\n",
       "      <td>0.0002</td>\n",
       "    </tr>\n",
       "    <tr>\n",
       "      <th>3</th>\n",
       "      <td>/home/linnik/Datasets/Traffic_lights/Union_new...</td>\n",
       "      <td>1</td>\n",
       "      <td>0.0000</td>\n",
       "      <td>1.0000</td>\n",
       "      <td>0.0000</td>\n",
       "      <td>0.0000</td>\n",
       "    </tr>\n",
       "  </tbody>\n",
       "</table>\n",
       "</div>"
      ],
      "text/plain": [
       "                                           Image_dir Tagret_class      NA  \\\n",
       "0  /home/linnik/Datasets/Traffic_lights/Union_new...            3  0.0001   \n",
       "1  /home/linnik/Datasets/Traffic_lights/Union_new...            0  0.9014   \n",
       "2  /home/linnik/Datasets/Traffic_lights/Union_new...            2  0.0001   \n",
       "3  /home/linnik/Datasets/Traffic_lights/Union_new...            1  0.0000   \n",
       "\n",
       "        R       Y       G  \n",
       "0  0.0009  0.0004  0.9985  \n",
       "1  0.0555  0.0143  0.0288  \n",
       "2  0.0532  0.9464  0.0002  \n",
       "3  1.0000  0.0000  0.0000  "
      ]
     },
     "execution_count": 204,
     "metadata": {},
     "output_type": "execute_result"
    }
   ],
   "source": [
    "df = confedence_df(test_dir, model, classes_names, csv_path)\n",
    "df"
   ]
  },
  {
   "cell_type": "markdown",
   "metadata": {},
   "source": [
    "# Converter"
   ]
  },
  {
   "cell_type": "code",
   "execution_count": null,
   "metadata": {},
   "outputs": [],
   "source": [
    "import tensorflow as tf\n",
    "from tensorflow.python.framework import graph_io\n",
    "from tensorflow.keras.models import load_model\n",
    "\n",
    "from keras.models import *\n",
    "from keras.layers import *\n",
    "from keras.optimizers import *\n",
    "\n",
    "\n",
    "\n",
    "save_pb_dir = '/home/linnik/Nets/models'\n",
    "\n",
    "def freeze_graph(graph, session, output, save_pb_dir = '.', save_pb_name = 'frozen_model.pb', save_pb_as_text=False):\n",
    "    with graph.as_default():\n",
    "        graphdef_inf = tf.graph_util.remove_training_nodes(graph.as_graph_def())\n",
    "        graphdef_frozen = tf.graph_util.convert_variables_to_constants(session, graphdef_inf, output)\n",
    "        graph_io.write_graph(graphdef_frozen, save_pb_dir, save_pb_name, as_text=save_pb_as_text)\n",
    "        return graphdef_frozen\n",
    "\n",
    "\n",
    "# This line must be executed before loading Keras model.\n",
    "\n",
    "\n",
    "model = loaded_model\n",
    "\n",
    "\n",
    "session = tf.keras.backend.get_session()\n",
    "init = tf.global_variables_initializer()\n",
    "session.run(init)\n",
    "\n",
    "\n",
    "input_names = [t.op.name for t in model.inputs]\n",
    "output_names = [t.op.name for t in model.outputs]\n",
    "\n",
    "# Prints input and output nodes names, take notes of them.\n",
    "print(input_names, output_names)\n",
    "\n",
    "frozen_graph = freeze_graph(session.graph, session, [out.op.name for out in model.outputs], save_pb_dir = save_pb_dir, save_pb_name = 'frozen_model_ct2_Xception_TL_71x71x3.pb')"
   ]
  }
 ],
 "metadata": {
  "kernelspec": {
   "display_name": "Python 3",
   "language": "python",
   "name": "python3"
  },
  "language_info": {
   "codemirror_mode": {
    "name": "ipython",
    "version": 3
   },
   "file_extension": ".py",
   "mimetype": "text/x-python",
   "name": "python",
   "nbconvert_exporter": "python",
   "pygments_lexer": "ipython3",
   "version": "3.7.5"
  }
 },
 "nbformat": 4,
 "nbformat_minor": 2
}
